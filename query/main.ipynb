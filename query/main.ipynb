{
 "cells": [
  {
   "cell_type": "code",
   "execution_count": 16,
   "metadata": {},
   "outputs": [],
   "source": [
    "import requests\n",
    "import json\n",
    "import time\n",
    "import pandas as pd\n",
    "from datetime import datetime"
   ]
  },
  {
   "cell_type": "code",
   "execution_count": 12,
   "metadata": {},
   "outputs": [
    {
     "name": "stdout",
     "output_type": "stream",
     "text": [
      "{1688554800: 0.22256530839999997, 1688558400: 9.630983926104001, 1688562000: 3.0651223319, 1688565600: 4.086869111859318, 1688569200: 1.3456471641000003, 1688572800: 8.6917933914, 1688576400: 0.5065375463, 1688580000: 1.0563067509999993, 1688583600: 1.7477806506532567, 1688587200: 0.489642947, 1688590800: 0.2053399642, 1688594400: 0.2717897681, 1688598000: 5.451302247717571, 1688601600: 2.061511061307299, 1688605200: 1.3778732179, 1688608800: 2.2807737813646476, 1688612400: 2.0830864461479544, 1688616000: 1.0822455532000002, 1688619600: 1.9580035672, 1688623200: 0.8464680645, 1688626800: 0.865124658012473, 1688630400: 1.988348170790894, 1688634000: 7.199913530993883, 1688637600: 0.7061691667000001, 1688641200: 1.1024099998000003}\n"
     ]
    }
   ],
   "source": [
    "url = \"https://api.thegraph.com/subgraphs/name/narutomanchester/wombat-exchange-arb\"\n",
    "\n",
    "currentTime = int(time.time())\n",
    "checkTime = currentTime - 86400\n",
    "\n",
    "# create dict to store hour data \n",
    "hourData = {}\n",
    "# loop until scan all second\n",
    "while checkTime<=currentTime:\n",
    "\n",
    "  body = \"\"\"\n",
    "    query {\n",
    "      secondDatas(first: 1000, where: { unixTime_gte: %d}) {\n",
    "        feesUSD\n",
    "        unixHour\n",
    "        unixTime\n",
    "      }\n",
    "    }\n",
    "    \"\"\"%checkTime\n",
    "\n",
    "  # get request data\n",
    "  response = requests.post(url, json={\"query\": body})\n",
    "  responseData = json.loads(response.text)\n",
    "  \n",
    "  # handle request data\n",
    "  if len(responseData['data']['secondDatas']) == 0:\n",
    "    break\n",
    "\n",
    "  for data in responseData['data']['secondDatas']:\n",
    "    feesUSD, unixHour, unixTime = data['feesUSD'], data['unixHour'], data['unixTime']\n",
    "    # move to next check time\n",
    "    checkTime = max(checkTime, unixTime) + 1\n",
    "\n",
    "    if unixHour not in hourData:\n",
    "      hourData[unixHour] = 0\n",
    "\n",
    "    hourData[unixHour] += float(feesUSD)\n"
   ]
  },
  {
   "cell_type": "code",
   "execution_count": 20,
   "metadata": {},
   "outputs": [
    {
     "name": "stdout",
     "output_type": "stream",
     "text": [
      "             date    feeUSD\n",
      "0   2023-07-05 18  0.222565\n",
      "1   2023-07-05 19  9.630984\n",
      "2   2023-07-05 20  3.065122\n",
      "3   2023-07-05 21  4.086869\n",
      "4   2023-07-05 22  1.345647\n",
      "5   2023-07-05 23  8.691793\n",
      "6   2023-07-06 00  0.506538\n",
      "7   2023-07-06 01  1.056307\n",
      "8   2023-07-06 02  1.747781\n",
      "9   2023-07-06 03  0.489643\n",
      "10  2023-07-06 04  0.205340\n",
      "11  2023-07-06 05  0.271790\n",
      "12  2023-07-06 06  5.451302\n",
      "13  2023-07-06 07  2.061511\n",
      "14  2023-07-06 08  1.377873\n",
      "15  2023-07-06 09  2.280774\n",
      "16  2023-07-06 10  2.083086\n",
      "17  2023-07-06 11  1.082246\n",
      "18  2023-07-06 12  1.958004\n",
      "19  2023-07-06 13  0.846468\n",
      "20  2023-07-06 14  0.865125\n",
      "21  2023-07-06 15  1.988348\n",
      "22  2023-07-06 16  7.199914\n",
      "23  2023-07-06 17  0.706169\n",
      "24  2023-07-06 18  1.102410\n"
     ]
    }
   ],
   "source": [
    "# Create DF\n",
    "data = {'date': hourData.keys(),\n",
    "        'feeUSD': hourData.values()}\n",
    "  \n",
    "df = pd.DataFrame(data)\n",
    "# convert to readable datetime type\n",
    "df.date = df.date.apply(lambda d: datetime.fromtimestamp(int(d)).strftime('%Y-%m-%d %H'))\n",
    "print(df)"
   ]
  }
 ],
 "metadata": {
  "kernelspec": {
   "display_name": "Python 3.8.9 64-bit",
   "language": "python",
   "name": "python3"
  },
  "language_info": {
   "codemirror_mode": {
    "name": "ipython",
    "version": 3
   },
   "file_extension": ".py",
   "mimetype": "text/x-python",
   "name": "python",
   "nbconvert_exporter": "python",
   "pygments_lexer": "ipython3",
   "version": "3.8.9"
  },
  "orig_nbformat": 4,
  "vscode": {
   "interpreter": {
    "hash": "31f2aee4e71d21fbe5cf8b01ff0e069b9275f58929596ceb00d14d90e3e16cd6"
   }
  }
 },
 "nbformat": 4,
 "nbformat_minor": 2
}
